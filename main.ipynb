{
 "cells": [
  {
   "cell_type": "markdown",
   "metadata": {},
   "source": [
    "https://www.ons.gov.uk/peoplepopulationandcommunity/healthandsocialcare/causesofdeath/datasets/alcoholspecificdeathsintheukmaindataset"
   ]
  },
  {
   "cell_type": "code",
   "execution_count": 1,
   "metadata": {},
   "outputs": [
    {
     "name": "stderr",
     "output_type": "stream",
     "text": [
      "WARNING:Unexpected \"next release\" field: ('Unknown string format:', 'To be announced')\n"
     ]
    },
    {
     "data": {
      "text/markdown": [
       "## Alcohol-specific deaths in the UK\n",
       "\n",
       "Annual data on age-standardised and age-specific alcohol-specific death rates in the UK, its constituent countries and regions of England.\n",
       "\n",
       "### Distributions\n",
       "\n",
       "1. Alcohol-specific deaths in the UK ([MS Excel Spreadsheet](https://www.ons.gov.uk/file?uri=/peoplepopulationandcommunity/healthandsocialcare/causesofdeath/datasets/alcoholspecificdeathsintheukmaindataset/current/alcoholspecificdeathsintheukmaindataset.xls))\n"
      ],
      "text/plain": [
       "<gssutils.scrape.Scraper at 0x7f2ba145ccc0>"
      ]
     },
     "execution_count": 1,
     "metadata": {},
     "output_type": "execute_result"
    }
   ],
   "source": [
    "from gssutils import *\n",
    "scraper = Scraper('https://www.ons.gov.uk/peoplepopulationandcommunity/healthandsocialcare/causesofdeath/datasets/alcoholspecificdeathsintheukmaindataset')\n",
    "scraper"
   ]
  },
  {
   "cell_type": "code",
   "execution_count": 2,
   "metadata": {},
   "outputs": [],
   "source": [
    "next_table = pd.DataFrame()\n",
    "sheet = scraper.distribution().as_databaker()"
   ]
  },
  {
   "cell_type": "code",
   "execution_count": 3,
   "metadata": {},
   "outputs": [],
   "source": [
    "%%capture\n",
    "%run \"Tab1.ipynb\"\n",
    "next_table = pd.concat([next_table, Final_table])\n",
    "\n",
    "%run \"Tab2.ipynb\"\n",
    "next_table = pd.concat([next_table, Final_table])\n",
    "\n",
    "%run \"Tab3.ipynb\"\n",
    "next_table = pd.concat([next_table, Final_table])\n",
    "\n",
    "%run \"Tab4.ipynb\"\n",
    "next_table = pd.concat([next_table, Final_table])\n",
    "\n",
    "%run \"Tab5.ipynb\"\n",
    "next_table = pd.concat([next_table, Final_table])\n",
    "\n",
    "%run \"Tab6.ipynb\"\n",
    "next_table = pd.concat([next_table, Final_table])\n",
    "\n",
    "%run \"Tab7.ipynb\"\n",
    "next_table = pd.concat([next_table, Final_table])\n",
    "\n",
    "%run \"Tab8.ipynb\"\n",
    "next_table = pd.concat([next_table, Final_table])"
   ]
  },
  {
   "cell_type": "code",
   "execution_count": 4,
   "metadata": {},
   "outputs": [],
   "source": [
    "next_table['Age'] = next_table['Age'].map(\n",
    "    lambda x: {\n",
    "        'All' : 'all', \n",
    "        '01-04' : 'agq/1-4',\n",
    "        '05-09': 'agq/5-9' ,\n",
    "        '10-14': 'agq/10-14',\n",
    "        '15-19': 'agq/15-19',\n",
    "        '20-24': 'agq/20-24',\n",
    "        '25-29': 'agq/25-29',\n",
    "        '30-34': 'agq/30-34',\n",
    "        '35-39': 'agq/35-39',\n",
    "        '40-44': 'agq/40-44',\n",
    "        '45-49': 'agq/45-49',\n",
    "        '50-54': 'agq/50-54',\n",
    "        '55-59': 'agq/55-59',\n",
    "        '60-64': 'agq/60-64',\n",
    "        '65-69': 'agq/65-69',\n",
    "        '70-74': 'agq/70-74',\n",
    "        '75-79': 'agq/75-79',\n",
    "        '80-84': 'agq/80-84',\n",
    "        '85+'  : 'agq/85-plus',\n",
    "        '<1'  :  'agq/under-1'\n",
    "        \n",
    "        }.get(x, x))"
   ]
  },
  {
   "cell_type": "code",
   "execution_count": 5,
   "metadata": {},
   "outputs": [
    {
     "data": {
      "text/html": [
       "<div>\n",
       "<style scoped>\n",
       "    .dataframe tbody tr th:only-of-type {\n",
       "        vertical-align: middle;\n",
       "    }\n",
       "\n",
       "    .dataframe tbody tr th {\n",
       "        vertical-align: top;\n",
       "    }\n",
       "\n",
       "    .dataframe thead th {\n",
       "        text-align: right;\n",
       "    }\n",
       "</style>\n",
       "<table border=\"1\" class=\"dataframe\">\n",
       "  <thead>\n",
       "    <tr style=\"text-align: right;\">\n",
       "      <th></th>\n",
       "      <th>Age</th>\n",
       "      <th>Alcohol Specific Deaths</th>\n",
       "      <th>Geography</th>\n",
       "      <th>Lower 95% confidence limit</th>\n",
       "      <th>Measure Type</th>\n",
       "      <th>Sex</th>\n",
       "      <th>Unit</th>\n",
       "      <th>Upper 95% confidence limit</th>\n",
       "      <th>Value</th>\n",
       "      <th>Year</th>\n",
       "    </tr>\n",
       "  </thead>\n",
       "  <tbody>\n",
       "    <tr>\n",
       "      <th>0</th>\n",
       "      <td>all</td>\n",
       "      <td>Deaths</td>\n",
       "      <td>K02000001</td>\n",
       "      <td>0</td>\n",
       "      <td>Count</td>\n",
       "      <td>T</td>\n",
       "      <td>deaths</td>\n",
       "      <td>0</td>\n",
       "      <td>5701</td>\n",
       "      <td>2001</td>\n",
       "    </tr>\n",
       "    <tr>\n",
       "      <th>1</th>\n",
       "      <td>all</td>\n",
       "      <td>Rate per 100,000 people</td>\n",
       "      <td>K02000001</td>\n",
       "      <td>10</td>\n",
       "      <td>Rate per 100,000 persons</td>\n",
       "      <td>T</td>\n",
       "      <td>deaths</td>\n",
       "      <td>10</td>\n",
       "      <td>10</td>\n",
       "      <td>2001</td>\n",
       "    </tr>\n",
       "  </tbody>\n",
       "</table>\n",
       "</div>"
      ],
      "text/plain": [
       "   Age  Alcohol Specific Deaths  Geography Lower 95% confidence limit  \\\n",
       "0  all                   Deaths  K02000001                          0   \n",
       "1  all  Rate per 100,000 people  K02000001                         10   \n",
       "\n",
       "               Measure Type Sex    Unit Upper 95% confidence limit Value  Year  \n",
       "0                     Count   T  deaths                          0  5701  2001  \n",
       "1  Rate per 100,000 persons   T  deaths                         10    10  2001  "
      ]
     },
     "execution_count": 5,
     "metadata": {},
     "output_type": "execute_result"
    }
   ],
   "source": [
    "next_table.head(2)"
   ]
  },
  {
   "cell_type": "code",
   "execution_count": 6,
   "metadata": {},
   "outputs": [],
   "source": [
    "next_table.rename(index= str, columns= {'Upper 95% confidence limit':'CI Upper','Lower 95% confidence limit':'CI Lower'}, inplace = True)"
   ]
  },
  {
   "cell_type": "code",
   "execution_count": 7,
   "metadata": {},
   "outputs": [
    {
     "data": {
      "text/plain": [
       "array(['Deaths', 'Rate per 100,000 people', 'Rate per 100,000 females',\n",
       "       'Rate per 100,000 males'], dtype=object)"
      ]
     },
     "execution_count": 7,
     "metadata": {},
     "output_type": "execute_result"
    }
   ],
   "source": [
    "next_table['Alcohol Specific Deaths'].unique()"
   ]
  },
  {
   "cell_type": "code",
   "execution_count": 8,
   "metadata": {},
   "outputs": [],
   "source": [
    "next_table['CI Lower'] = next_table['CI Lower'].map(\n",
    "    lambda x: {\n",
    "        '' : '0',\n",
    "        }.get(x, x))"
   ]
  },
  {
   "cell_type": "code",
   "execution_count": 9,
   "metadata": {},
   "outputs": [],
   "source": [
    "next_table['CI Upper'] = next_table['CI Upper'].map(\n",
    "    lambda x: {\n",
    "        '' : '0',\n",
    "        }.get(x, x))"
   ]
  },
  {
   "cell_type": "code",
   "execution_count": 10,
   "metadata": {},
   "outputs": [],
   "source": [
    "next_table = next_table[['Age', 'Geography', 'CI Lower', 'Measure Type', 'Sex', 'Unit', 'CI Upper', 'Value', 'Year']]"
   ]
  },
  {
   "cell_type": "code",
   "execution_count": 11,
   "metadata": {},
   "outputs": [],
   "source": [
    "from pathlib import Path\n",
    "out = Path('out')\n",
    "out.mkdir(exist_ok=True)\n",
    "next_table.to_csv(out / 'observations.csv', index = False)"
   ]
  },
  {
   "cell_type": "code",
   "execution_count": 12,
   "metadata": {},
   "outputs": [],
   "source": [
    "scraper.dataset.family = 'health'\n",
    "with open(out / 'dataset.trig', 'wb') as metadata:\n",
    "    metadata.write(scraper.generate_trig())"
   ]
  },
  {
   "cell_type": "code",
   "execution_count": null,
   "metadata": {},
   "outputs": [],
   "source": []
  }
 ],
 "metadata": {
  "kernelspec": {
   "display_name": "Python 3",
   "language": "python",
   "name": "python3"
  },
  "language_info": {
   "codemirror_mode": {
    "name": "ipython",
    "version": 3
   },
   "file_extension": ".py",
   "mimetype": "text/x-python",
   "name": "python",
   "nbconvert_exporter": "python",
   "pygments_lexer": "ipython3",
   "version": "3.7.2"
  }
 },
 "nbformat": 4,
 "nbformat_minor": 2
}
