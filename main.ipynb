{
 "cells": [
  {
   "cell_type": "markdown",
   "metadata": {},
   "source": [
    "https://www.ons.gov.uk/peoplepopulationandcommunity/healthandsocialcare/causesofdeath/datasets/alcoholspecificdeathsintheukmaindataset"
   ]
  },
  {
   "cell_type": "code",
   "execution_count": 1,
   "metadata": {},
   "outputs": [
    {
     "name": "stderr",
     "output_type": "stream",
     "text": [
      "WARNING:Unexpected \"next release\" field: Unknown string format\n"
     ]
    },
    {
     "data": {
      "text/markdown": [
       "## Alcohol-specific deaths in the UK\n",
       "\n",
       "Annual data on age-standardised and age-specific alcohol-specific death rates in the UK, its constituent countries and regions of England.\n",
       "\n",
       "### Distributions\n",
       "\n",
       "1. Alcohol-specific deaths in the UK ([MS Excel Spreadsheet](https://www.ons.gov.uk/file?uri=/peoplepopulationandcommunity/healthandsocialcare/causesofdeath/datasets/alcoholspecificdeathsintheukmaindataset/current/alcoholspecificdeathsintheukmaindataset.xls))\n"
      ],
      "text/plain": [
       "<gssutils.scrape.Scraper at 0x17b0fc74668>"
      ]
     },
     "execution_count": 1,
     "metadata": {},
     "output_type": "execute_result"
    }
   ],
   "source": [
    "from gssutils import *\n",
    "scraper = Scraper('https://www.ons.gov.uk/peoplepopulationandcommunity/healthandsocialcare/causesofdeath/datasets/alcoholspecificdeathsintheukmaindataset')\n",
    "scraper"
   ]
  },
  {
   "cell_type": "code",
   "execution_count": 2,
   "metadata": {
    "collapsed": true
   },
   "outputs": [],
   "source": [
    "next_table = pd.DataFrame()\n",
    "sheet = scraper.distribution().as_databaker()"
   ]
  },
  {
   "cell_type": "code",
   "execution_count": 3,
   "metadata": {
    "collapsed": true
   },
   "outputs": [],
   "source": [
    "%%capture\n",
    "%run \"Tab1.ipynb\"\n",
    "next_table = pd.concat([next_table, Final_table])\n",
    "\n",
    "%run \"Tab2.ipynb\"\n",
    "next_table = pd.concat([next_table, Final_table])\n",
    "\n",
    "%run \"Tab3.ipynb\"\n",
    "next_table = pd.concat([next_table, Final_table])\n",
    "\n",
    "%run \"Tab4.ipynb\"\n",
    "next_table = pd.concat([next_table, Final_table])\n",
    "\n",
    "%run \"Tab5.ipynb\"\n",
    "next_table = pd.concat([next_table, Final_table])\n",
    "\n",
    "%run \"Tab6.ipynb\"\n",
    "next_table = pd.concat([next_table, Final_table])\n",
    "\n",
    "%run \"Tab7.ipynb\"\n",
    "next_table = pd.concat([next_table, Final_table])\n",
    "\n",
    "%run \"Tab8.ipynb\"\n",
    "next_table = pd.concat([next_table, Final_table])"
   ]
  },
  {
   "cell_type": "code",
   "execution_count": 4,
   "metadata": {
    "collapsed": true
   },
   "outputs": [],
   "source": [
    "next_table['Age'] = next_table['Age'].map(\n",
    "    lambda x: {\n",
    "        'All' : 'all', \n",
    "        '01-04' : 'agq/1-4',\n",
    "        '05-09': 'agq/5-9' ,\n",
    "        '10-14': 'agq/10-14',\n",
    "        '15-19': 'agq/15-19',\n",
    "        '20-24': 'agq/20-24',\n",
    "        '25-29': 'agq/25-29',\n",
    "        '30-34': 'agq/30-34',\n",
    "        '35-39': 'agq/35-39',\n",
    "        '40-44': 'agq/40-44',\n",
    "        '45-49': 'agq/45-49',\n",
    "        '50-54': 'agq/50-54',\n",
    "        '55-59': 'agq/55-59',\n",
    "        '60-64': 'agq/60-64',\n",
    "        '65-69': 'agq/65-69',\n",
    "        '70-74': 'agq/70-74',\n",
    "        '75-79': 'agq/75-79',\n",
    "        '80-84': 'agq/80-84',\n",
    "        '85+'  : 'agq/85-plus',\n",
    "        '<1'  :  'agq/under-1'\n",
    "        \n",
    "        }.get(x, x))"
   ]
  },
  {
   "cell_type": "code",
   "execution_count": 5,
   "metadata": {
    "collapsed": true
   },
   "outputs": [],
   "source": [
    "next_table.rename(index= str, columns= {'Upper 95% confidence limit':'CI Upper','Lower 95% confidence limit':'CI Lower'}, inplace = True)"
   ]
  },
  {
   "cell_type": "code",
   "execution_count": 6,
   "metadata": {
    "collapsed": true
   },
   "outputs": [],
   "source": [
    "next_table = next_table[['Age', 'Geography', 'CI Lower', 'Measure Type', 'Sex', 'Unit', 'CI Upper', 'Value', 'Year']]"
   ]
  },
  {
   "cell_type": "code",
   "execution_count": 7,
   "metadata": {
    "collapsed": true
   },
   "outputs": [],
   "source": [
    "from pathlib import Path\n",
    "out = Path('out')\n",
    "out.mkdir(exist_ok=True)\n",
    "next_table.to_csv(out / 'observations.csv', index = False)"
   ]
  },
  {
   "cell_type": "code",
   "execution_count": 8,
   "metadata": {
    "collapsed": true
   },
   "outputs": [],
   "source": [
    "scraper.dataset.family = 'health'\n",
    "with open(out / 'dataset.trig', 'wb') as metadata:\n",
    "    metadata.write(scraper.generate_trig())"
   ]
  },
  {
   "cell_type": "code",
   "execution_count": null,
   "metadata": {
    "collapsed": true
   },
   "outputs": [],
   "source": []
  }
 ],
 "metadata": {
  "kernelspec": {
   "display_name": "Python 3",
   "language": "python",
   "name": "python3"
  },
  "language_info": {
   "codemirror_mode": {
    "name": "ipython",
    "version": 3
   },
   "file_extension": ".py",
   "mimetype": "text/x-python",
   "name": "python",
   "nbconvert_exporter": "python",
   "pygments_lexer": "ipython3",
   "version": "3.6.3"
  }
 },
 "nbformat": 4,
 "nbformat_minor": 2
}
