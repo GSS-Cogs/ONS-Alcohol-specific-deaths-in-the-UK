{
 "cells": [
  {
   "cell_type": "markdown",
   "metadata": {},
   "source": [
    "https://www.ons.gov.uk/peoplepopulationandcommunity/healthandsocialcare/causesofdeath/datasets/alcoholspecificdeathsintheukmaindataset"
   ]
  },
  {
   "cell_type": "code",
   "execution_count": 1,
   "metadata": {},
   "outputs": [
    {
     "name": "stderr",
     "output_type": "stream",
     "text": [
      "WARNING:Unexpected \"next release\" field: ('Unknown string format:', 'To be announced')\n"
     ]
    },
    {
     "data": {
      "text/markdown": [
       "## Alcohol-specific deaths in the UK: main dataset\n",
       "\n",
       "Age-standardised and age-specific alcohol-specific death rates in the UK, its constituent countries and regions of England, deaths registered 2001 to 2016.\n",
       "\n",
       "### Distributions\n",
       "\n",
       "1. Alcohol-specific deaths in the UK: main dataset ([MS Excel Spreadsheet](https://www.ons.gov.uk/file?uri=/peoplepopulationandcommunity/healthandsocialcare/causesofdeath/datasets/alcoholspecificdeathsintheukmaindataset/current/maindatatablesforalcoholspecificdeaths.xls))\n"
      ],
      "text/plain": [
       "<gssutils.scrape.Scraper at 0x7f92242bc080>"
      ]
     },
     "execution_count": 1,
     "metadata": {},
     "output_type": "execute_result"
    }
   ],
   "source": [
    "from gssutils import *\n",
    "scraper = Scraper('https://www.ons.gov.uk/peoplepopulationandcommunity/healthandsocialcare/causesofdeath/datasets/alcoholspecificdeathsintheukmaindataset')\n",
    "scraper"
   ]
  },
  {
   "cell_type": "code",
   "execution_count": 2,
   "metadata": {},
   "outputs": [],
   "source": [
    "next_table = pd.DataFrame()\n",
    "sheet = scraper.distribution().as_databaker()"
   ]
  },
  {
   "cell_type": "code",
   "execution_count": 3,
   "metadata": {},
   "outputs": [],
   "source": [
    "%%capture\n",
    "%run \"Tab1.ipynb\"\n",
    "next_table = pd.concat([next_table, Final_table])\n",
    "\n",
    "%run \"Tab2.ipynb\"\n",
    "next_table = pd.concat([next_table, Final_table])\n",
    "\n",
    "%run \"Tab3.ipynb\"\n",
    "next_table = pd.concat([next_table, Final_table])\n",
    "\n",
    "%run \"Tab4.ipynb\"\n",
    "next_table = pd.concat([next_table, Final_table])\n",
    "\n",
    "%run \"Tab5.ipynb\"\n",
    "next_table = pd.concat([next_table, Final_table])\n",
    "\n",
    "%run \"Tab6.ipynb\"\n",
    "next_table = pd.concat([next_table, Final_table])\n",
    "\n",
    "%run \"Tab7.ipynb\"\n",
    "next_table = pd.concat([next_table, Final_table])\n",
    "\n",
    "%run \"Tab8.ipynb\"\n",
    "next_table = pd.concat([next_table, Final_table])"
   ]
  },
  {
   "cell_type": "code",
   "execution_count": 4,
   "metadata": {},
   "outputs": [
    {
     "data": {
      "text/plain": [
       "Age                           2334\n",
       "Alcohol Specific Deaths       2334\n",
       "Geography                     2334\n",
       "Lower 95% confidence limit    2334\n",
       "Measure Type                  2334\n",
       "Sex                           2334\n",
       "Unit                          2334\n",
       "Upper 95% confidence limit    2334\n",
       "Value                         2334\n",
       "Year                          2334\n",
       "dtype: int64"
      ]
     },
     "execution_count": 4,
     "metadata": {},
     "output_type": "execute_result"
    }
   ],
   "source": [
    "next_table.count()"
   ]
  },
  {
   "cell_type": "code",
   "execution_count": 5,
   "metadata": {},
   "outputs": [],
   "source": [
    "from pathlib import Path\n",
    "out = Path('out')\n",
    "out.mkdir(exist_ok=True)\n",
    "next_table.to_csv(out / 'alcoholdeaths.csv', index = False)"
   ]
  },
  {
   "cell_type": "code",
   "execution_count": null,
   "metadata": {},
   "outputs": [],
   "source": []
  }
 ],
 "metadata": {
  "kernelspec": {
   "display_name": "Python 3",
   "language": "python",
   "name": "python3"
  },
  "language_info": {
   "codemirror_mode": {
    "name": "ipython",
    "version": 3
   },
   "file_extension": ".py",
   "mimetype": "text/x-python",
   "name": "python",
   "nbconvert_exporter": "python",
   "pygments_lexer": "ipython3",
   "version": "3.7.1"
  }
 },
 "nbformat": 4,
 "nbformat_minor": 2
}
