{
 "cells": [
  {
   "cell_type": "markdown",
   "metadata": {},
   "source": [
    "https://www.ons.gov.uk/peoplepopulationandcommunity/healthandsocialcare/causesofdeath/datasets/alcoholspecificdeathsintheukmaindataset"
   ]
  },
  {
   "cell_type": "code",
   "execution_count": null,
   "metadata": {},
   "outputs": [],
   "source": [
    "from gssutils import *"
   ]
  },
  {
   "cell_type": "code",
   "execution_count": null,
   "metadata": {
    "collapsed": true
   },
   "outputs": [],
   "source": [
    "next_table = pd.DataFrame()"
   ]
  },
  {
   "cell_type": "code",
   "execution_count": null,
   "metadata": {},
   "outputs": [],
   "source": [
    "%%capture\n",
    "%run \"Tab1.ipynb\"\n",
    "next_table = pd.concat([next_table, Final_table])\n",
    "\n",
    "%run \"Tab2.ipynb\"\n",
    "next_table = pd.concat([next_table, Final_table])\n",
    "\n",
    "%run \"Tab3.ipynb\"\n",
    "next_table = pd.concat([next_table, Final_table])\n",
    "\n",
    "%run \"Tab4.ipynb\"\n",
    "next_table = pd.concat([next_table, Final_table])\n",
    "\n",
    "%run \"Tab5.ipynb\"\n",
    "next_table = pd.concat([next_table, Final_table])\n",
    "\n",
    "%run \"Tab6.ipynb\"\n",
    "next_table = pd.concat([next_table, Final_table])\n",
    "\n",
    "%run \"Tab7.ipynb\"\n",
    "next_table = pd.concat([next_table, Final_table])\n",
    "\n",
    "%run \"Tab8.ipynb\"\n",
    "next_table = pd.concat([next_table, Final_table])"
   ]
  },
  {
   "cell_type": "code",
   "execution_count": null,
   "metadata": {
    "collapsed": true
   },
   "outputs": [],
   "source": [
    "next_table.count()"
   ]
  },
  {
   "cell_type": "code",
   "execution_count": null,
   "metadata": {
    "collapsed": true
   },
   "outputs": [],
   "source": [
    "out = Path('out')\n",
    "out.mkdir(exist_ok=True)\n",
    "next_table.to_csv(out / 'alcoholdeaths.csv', index = False)"
   ]
  },
  {
   "cell_type": "code",
   "execution_count": null,
   "metadata": {
    "collapsed": true
   },
   "outputs": [],
   "source": []
  }
 ],
 "metadata": {
  "kernelspec": {
   "display_name": "Python 3",
   "language": "python",
   "name": "python3"
  },
  "language_info": {
   "codemirror_mode": {
    "name": "ipython",
    "version": 3
   },
   "file_extension": ".py",
   "mimetype": "text/x-python",
   "name": "python",
   "nbconvert_exporter": "python",
   "pygments_lexer": "ipython3",
   "version": "3.6.3"
  }
 },
 "nbformat": 4,
 "nbformat_minor": 2
}
